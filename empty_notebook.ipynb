{
  "cells": [
    {
      "cell_type": "markdown",
      "source": [
        "# Firebase Veri Çekme"
      ],
      "metadata": {
        "id": "7xthz5-M6RIt"
      },
      "id": "7xthz5-M6RIt"
    },
    {
      "cell_type": "markdown",
      "source": [
        "Firebase veri çekme işlemi."
      ],
      "metadata": {
        "id": "w8DSa2Bj6dXT"
      },
      "id": "w8DSa2Bj6dXT"
    },
    {
      "cell_type": "code",
      "source": [
        "import pandas as pd\n",
        "\n",
        "def flatten_dict_to_rows(data):\n",
        "    rows = []\n",
        "\n",
        "    for key1, val1 in data.items():\n",
        "        if isinstance(val1, dict):\n",
        "            for key2, val2 in val1.items():\n",
        "                if isinstance(val2, dict):\n",
        "                    flat = {'level1': key1, 'level2': key2}\n",
        "                    flat.update(val2)\n",
        "                    rows.append(flat)\n",
        "                else:\n",
        "                    rows.append({'level1': key1, 'level2': key2, 'value': val2})\n",
        "        else:\n",
        "            rows.append({'level1': key1, 'value': val1})\n",
        "\n",
        "    return rows\n",
        "\n",
        "# Veriyi düzleştir\n",
        "flat_data = flatten_dict_to_rows(data)\n",
        "\n",
        "# DataFrame'e çevir\n",
        "df = pd.DataFrame(flat_data)\n",
        "\n",
        "# Excel'e yaz\n",
        "df.to_excel(\"veriler.xlsx\", index=False)\n",
        "\n",
        "print(\"Excel dosyası oluşturuldu.\")\n"
      ],
      "metadata": {
        "colab": {
          "base_uri": "https://localhost:8080/"
        },
        "id": "4q1W8rqz1k8z",
        "outputId": "c8459bdc-7c99-496e-dc55-8ab2168faef2"
      },
      "id": "4q1W8rqz1k8z",
      "execution_count": 2,
      "outputs": [
        {
          "output_type": "stream",
          "name": "stdout",
          "text": [
            "Excel dosyası oluşturuldu.\n"
          ]
        }
      ]
    }
  ],
  "metadata": {
    "colab": {
      "provenance": []
    },
    "language_info": {
      "name": "python"
    },
    "kernelspec": {
      "name": "python3",
      "display_name": "Python 3"
    }
  },
  "nbformat": 4,
  "nbformat_minor": 5
}